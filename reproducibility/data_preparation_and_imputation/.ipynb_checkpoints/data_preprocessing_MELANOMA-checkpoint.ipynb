{
 "cells": [
  {
   "cell_type": "markdown",
   "metadata": {
    "pycharm": {
     "name": "#%% md\n"
    }
   },
   "source": [
    "# Data pre-processing\n",
    "For this tutorial, we will be imputing a dataset of Melanoma Cells\n",
    "freely available from\n",
    "[GSE99330](https://www.ncbi.nlm.nih.gov/geo/query/acc.cgi?acc=GSE99330).\n",
    " \n",
    "## 1. Download example dataset\n",
    "\n",
    "In [RNA-seq dataset](https://www.ncbi.nlm.nih.gov/geo/download/?acc=GSE99330&format=file&file=GSE99330%5FdropseqHumanDge%2Etxt%2Egz),\n",
    "8,640 single cells were sequenced on the Illumina NextSeq 500 platform.\n",
    "\n",
    "To assess the performance, an independent reference [smFISH dataset](https://www.dropbox.com/s/ia9x0iom6dwueix/fishSubset.txt?dl=0)\n",
    "with 26 genes in thousands of melanoma cells is used."
   ]
  },
  {
   "cell_type": "code",
   "execution_count": null,
   "metadata": {
    "pycharm": {
     "is_executing": false,
     "name": "#%%\n"
    }
   },
   "outputs": [],
   "source": [
    "import numpy as np\n",
    "import pandas as pd\n",
    "import h5py"
   ]
  },
  {
   "cell_type": "markdown",
   "metadata": {
    "pycharm": {
     "name": "#%% md\n"
    }
   },
   "source": [
    "Download melanoma RNA-seq data for imputation."
   ]
  },
  {
   "cell_type": "code",
   "execution_count": null,
   "metadata": {
    "pycharm": {
     "is_executing": false,
     "name": "#%%\n"
    }
   },
   "outputs": [],
   "source": [
    "melanoma_rnaseq_path = \"E:/DISC/reproducibility/data/MELANOMA/original_data/GSE99330_dropseqHumanDge.txt.gz\"\n",
    "melanoma_rnaseq_pd = pd.read_csv(melanoma_rnaseq_path, sep=\" \", compression='gzip', index_col=0, skiprows=1)"
   ]
  },
  {
   "cell_type": "code",
   "execution_count": null,
   "metadata": {
    "pycharm": {
     "is_executing": false
    },
    "scrolled": true
   },
   "outputs": [],
   "source": [
    "melanoma_rnaseq_pd"
   ]
  },
  {
   "cell_type": "markdown",
   "metadata": {},
   "source": [
    "We download melanoma FISH data for validation."
   ]
  },
  {
   "cell_type": "code",
   "execution_count": null,
   "metadata": {
    "pycharm": {
     "is_executing": false,
     "name": "#%%\n"
    }
   },
   "outputs": [],
   "source": [
    "melanoma_fish_path = \"E:/DISC/reproducibility/data/MELANOMA/original_data/fishSubset.txt\"\n",
    "melanoma_fish_pd = pd.read_csv(melanoma_fish_path, sep=\" \", index_col=0).T"
   ]
  },
  {
   "cell_type": "code",
   "execution_count": null,
   "metadata": {
    "pycharm": {
     "is_executing": false
    },
    "scrolled": true
   },
   "outputs": [],
   "source": [
    "melanoma_fish_pd"
   ]
  },
  {
   "cell_type": "markdown",
   "metadata": {},
   "source": [
    "We fill missing values with -1 as [loom](http://loompy.org/) not support np.nan dtype."
   ]
  },
  {
   "cell_type": "code",
   "execution_count": null,
   "metadata": {
    "pycharm": {
     "is_executing": false
    }
   },
   "outputs": [],
   "source": [
    "melanoma_fish_pd = melanoma_fish_pd.fillna(-1)\n",
    "melanoma_fish_pd"
   ]
  },
  {
   "cell_type": "markdown",
   "metadata": {
    "pycharm": {
     "name": "#%% md\n"
    }
   },
   "source": [
    "## 2. Format transformation and cell filtering"
   ]
  },
  {
   "cell_type": "markdown",
   "metadata": {
    "pycharm": {
     "name": "#%% md\n"
    }
   },
   "source": [
    "`DISC` uses [loom](http://loompy.org/) as its I/O format so we save these data as loom-formatted files."
   ]
  },
  {
   "cell_type": "code",
   "execution_count": null,
   "metadata": {
    "pycharm": {
     "is_executing": false,
     "name": "#%%\n"
    }
   },
   "outputs": [],
   "source": [
    "with h5py.File(\"E:/DISC/reproducibility/data/MELANOMA/original.loom\", \"w\") as out_f:\n",
    "    out_f.create_group(\"row_graphs\")\n",
    "    out_f.create_group(\"col_graphs\")\n",
    "    out_f.create_group(\"layers\")\n",
    "    out_f[\"row_attrs/Gene\"] = melanoma_rnaseq_pd.index.values.astype(np.string_)\n",
    "    out_f[\"col_attrs/CellID\"] = melanoma_rnaseq_pd.columns.values.astype(np.string_)\n",
    "    out_f.create_dataset(\"matrix\", shape=melanoma_rnaseq_pd.shape,\n",
    "                             chunks=(melanoma_rnaseq_pd.shape[0], 1), dtype=np.float32, fletcher32=False,\n",
    "                             compression=\"gzip\", shuffle=False, compression_opts=2)\n",
    "    out_f[\"matrix\"][...] = melanoma_rnaseq_pd.values"
   ]
  },
  {
   "cell_type": "code",
   "execution_count": null,
   "metadata": {
    "pycharm": {
     "is_executing": false,
     "name": "#%%\n"
    }
   },
   "outputs": [],
   "source": [
    "with h5py.File(\"E:/DISC/reproducibility/data/MELANOMA/fish.loom\", \"w\") as out_f:\n",
    "    out_f.create_group(\"row_graphs\")\n",
    "    out_f.create_group(\"col_graphs\")\n",
    "    out_f.create_group(\"layers\")\n",
    "    out_f[\"row_attrs/Gene\"] = melanoma_fish_pd.index.values.astype(np.string_)\n",
    "    out_f[\"col_attrs/CellID\"] = melanoma_fish_pd.columns.values.astype(np.string_)\n",
    "    out_f.create_dataset(\"matrix\", shape=melanoma_fish_pd.shape,\n",
    "                             chunks=(melanoma_fish_pd.shape[0], 1), dtype=np.float32, fletcher32=False,\n",
    "                             compression=\"gzip\", shuffle=False, compression_opts=2)\n",
    "    out_f[\"matrix\"][...] = melanoma_fish_pd.values"
   ]
  },
  {
   "cell_type": "markdown",
   "metadata": {
    "pycharm": {
     "name": "#%% md\n"
    }
   },
   "source": [
    "We remove cells with library size less than 500 or greater than 20,000 for RNA-seq data as [SAVER](https://www.nature.com/articles/s41592-018-0033-z). does."
   ]
  },
  {
   "cell_type": "code",
   "execution_count": null,
   "metadata": {
    "pycharm": {
     "is_executing": false
    }
   },
   "outputs": [],
   "source": [
    "with h5py.File(\"E:/DISC/reproducibility/data/MELANOMA/raw.loom\", \"w\") as out_f:\n",
    "    with h5py.File(\"E:/DISC/reproducibility/data/MELANOMA/original.loom\", \"r\", libver='latest', swmr=True) as f:\n",
    "        gene_bc_mat = f[\"matrix\"][...]\n",
    "        gene_name = f[\"row_attrs/Gene\"][...]\n",
    "        cell_id = f[\"col_attrs/CellID\"][...]\n",
    "    out_f.create_group(\"row_graphs\")\n",
    "    out_f.create_group(\"col_graphs\")\n",
    "    out_f.create_group(\"layers\")\n",
    "    out_f[\"row_attrs/Gene\"] = gene_name\n",
    "    cell_filter = np.bitwise_and(gene_bc_mat.sum(0) >= 500, gene_bc_mat.sum(0) <= 20000)\n",
    "    out_f[\"col_attrs/CellID\"] = cell_id[cell_filter]\n",
    "    gene_bc_filt = gene_bc_mat[:, cell_filter]\n",
    "    out_f.create_dataset(\"matrix\", shape=gene_bc_filt.shape,\n",
    "                             chunks=(gene_bc_filt.shape[0], 1), dtype=np.float32, fletcher32=False,\n",
    "                             compression=\"gzip\", shuffle=False, compression_opts=2)\n",
    "    out_f[\"matrix\"][...] = gene_bc_filt"
   ]
  },
  {
   "cell_type": "markdown",
   "metadata": {
    "pycharm": {
     "name": "#%% md\n"
    }
   },
   "source": [
    "We will use `raw.loom`(RNA-seq) for imputation and `fish.loom`(FISH) for evaluation."
   ]
  },
  {
   "cell_type": "markdown",
   "metadata": {
    "pycharm": {
     "name": "#%% md\n"
    }
   },
   "source": [
    "Reference: \n",
    "\n",
    "1. Huang, M. et al. Nature methods 15, 539–542 (2018)."
   ]
  }
 ],
 "metadata": {
  "kernelspec": {
   "display_name": "Python 3",
   "language": "python",
   "name": "python3"
  },
  "language_info": {
   "codemirror_mode": {
    "name": "ipython",
    "version": 3
   },
   "file_extension": ".py",
   "mimetype": "text/x-python",
   "name": "python",
   "nbconvert_exporter": "python",
   "pygments_lexer": "ipython3",
   "version": "3.7.2"
  },
  "pycharm": {
   "stem_cell": {
    "cell_type": "raw",
    "metadata": {
     "collapsed": false
    },
    "source": []
   }
  }
 },
 "nbformat": 4,
 "nbformat_minor": 1
}
