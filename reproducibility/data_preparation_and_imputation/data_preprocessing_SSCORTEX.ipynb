{
 "cells": [
  {
   "cell_type": "markdown",
   "metadata": {
    "pycharm": {
     "name": "#%% md\n"
    }
   },
   "source": [
    "# Data pre-processing\n",
    "Mouse somatosensory cortex of CD-1 mice at age of p28 and p29 were\n",
    "profiled by 10X where 7,477 cells were detected ([SSCORTEX](http://loom.linnarssonlab.org/clone/Mousebrain.org.level1/L1_Cortex2.loom)).\n",
    "In addition, osmFISH experiment of 4,839 cells from somatosensory cortex,\n",
    "hippocampus and ventricle of a CD-1 mouse at age of p22 was conducted and\n",
    "33 genes were detected ([SSCORTEX_FISH](http://linnarssonlab.org/osmFISH/availability/))."
   ]
  },
  {
   "cell_type": "code",
   "execution_count": 1,
   "metadata": {
    "pycharm": {
     "is_executing": false,
     "name": "#%%\n"
    }
   },
   "outputs": [],
   "source": [
    "import numpy as np\n",
    "import collections\n",
    "import h5py"
   ]
  },
  {
   "cell_type": "markdown",
   "source": [
    "6 samples from Mouse L2 cortex tissue were pooled,\n",
    "2 of them were from somatosensory cortex tissue.\n",
    "These 6 samples were saved in http://loom.linnarssonlab.org/clone/Mousebrain.org.level1/L1_Cortex2.loom.\n",
    "\n",
    "This dataset has duplicated gene names, we ran a python script in terminal as\n",
    "https://github.com/iyhaoo/DISC/blob/master/reproducibility/data_preparation_and_imputation/run_imputation.md first."
   ],
   "metadata": {
    "collapsed": false,
    "pycharm": {
     "name": "#%% md\n"
    }
   }
  },
  {
   "cell_type": "code",
   "execution_count": 2,
   "outputs": [],
   "source": [
    "loom_path = \"E:/DISC/reproducibility/data/SSCORTEX/original_data/l1_cortex2_unique_rename.loom\"\n",
    "with h5py.File(loom_path, \"r\", libver='latest', swmr=True) as f:\n",
    "    gene_name = f[\"row_attrs/Gene\"][...]\n",
    "    cell_id = f[\"col_attrs/CellID\"][...]\n",
    "    sample_id = f[\"col_attrs/SampleID\"][...]\n",
    "    tissue = f[\"col_attrs/Tissue\"][...]\n",
    "    gene_bc_mat = f[\"matrix\"][...]"
   ],
   "metadata": {
    "collapsed": false,
    "pycharm": {
     "name": "#%%\n",
     "is_executing": false
    }
   }
  },
  {
   "cell_type": "markdown",
   "source": [
    "We extract cells from somatosensory cortex tissue."
   ],
   "metadata": {
    "collapsed": false
   }
  },
  {
   "cell_type": "code",
   "execution_count": 3,
   "outputs": [
    {
     "name": "stdout",
     "text": [
      "Counter({b'Ctx2': 10978, b'SScortex': 7477, b'Ctx1.5': 2356})\n",
      "Counter({b'10X02_1': 3971, b'10X19_2': 3874, b'10X01_1': 3506, b'10X35_1': 3229, b'10X35_2': 2783, b'10X38_3': 2356, b'10X36_3': 1092})\n"
     ],
     "output_type": "stream"
    }
   ],
   "source": [
    "print(collections.Counter(tissue))\n",
    "print(collections.Counter(sample_id))\n",
    "used_cell = np.isin(tissue.astype(np.str), \"SScortex\")\n",
    "gene_bc_sscortex = gene_bc_mat[:, used_cell]\n",
    "cell_id_sscortex = cell_id[used_cell]\n",
    "sample_id_sscortex = sample_id[used_cell]\n",
    "express_cells_sscortex = (gene_bc_sscortex > 0).sum(0)"
   ],
   "metadata": {
    "collapsed": false,
    "pycharm": {
     "name": "#%%\n",
     "is_executing": false
    }
   }
  },
  {
   "cell_type": "markdown",
   "source": [
    "We then save the original data and remove cell based on expressed gene number.\n",
    "The Level 1 data were filtered cells based on clustering."
   ],
   "metadata": {
    "collapsed": false,
    "pycharm": {
     "name": "#%% md\n"
    }
   }
  },
  {
   "cell_type": "code",
   "execution_count": 4,
   "outputs": [
    {
     "name": "stdout",
     "text": [
      "E:/DISC/reproducibility/data/SSCORTEX/original.loom (27998, 7477)\n",
      "E:/DISC/reproducibility/data/SSCORTEX/original_10X01_1.loom (27998, 3506)\n",
      "E:/DISC/reproducibility/data/SSCORTEX/original_10X02_1.loom (27998, 3971)\n"
     ],
     "output_type": "stream"
    }
   ],
   "source": [
    "output_path = \"E:/DISC/reproducibility/data/SSCORTEX/original.loom\"\n",
    "with h5py.File(output_path, \"w\") as f:\n",
    "    f.create_group(\"row_graphs\")\n",
    "    f.create_group(\"col_graphs\")\n",
    "    f.create_group(\"layers\")\n",
    "    f[\"row_attrs/Gene\"] = gene_name\n",
    "    f[\"col_attrs/CellID\"] = cell_id_sscortex\n",
    "    f[\"col_attrs/SampleID\"] = sample_id_sscortex\n",
    "    f.create_dataset(\"matrix\", shape=gene_bc_sscortex.shape,\n",
    "                             chunks=(gene_name.size, 1), dtype=np.float32, fletcher32=False,\n",
    "                             compression=\"gzip\", shuffle=False, compression_opts=2)\n",
    "    f[\"matrix\"][...] = gene_bc_sscortex\n",
    "    print(output_path, gene_bc_sscortex.shape)"
   ],
   "metadata": {
    "collapsed": false,
    "pycharm": {
     "name": "#%%\n",
     "is_executing": false
    }
   }
  },
  {
   "cell_type": "markdown",
   "source": [
    "Here we additionally remove a little more cells based on\n",
    "expressed gene number for better data quality."
   ],
   "metadata": {
    "collapsed": false,
    "pycharm": {
     "name": "#%% md\n"
    }
   }
  },
  {
   "cell_type": "code",
   "execution_count": 5,
   "outputs": [
    {
     "name": "stdout",
     "text": [
      "E:/DISC/reproducibility/data/SSCORTEX/raw.loom (27998, 7416)\n",
      "E:/DISC/reproducibility/data/SSCORTEX/raw_10X01_1.loom (27998, 3447)\n",
      "E:/DISC/reproducibility/data/SSCORTEX/raw_10X02_1.loom (27998, 3969)\n"
     ],
     "output_type": "stream"
    }
   ],
   "source": [
    "cell_filter = np.bitwise_and(express_cells_sscortex >= 500, express_cells_sscortex <= 5000)\n",
    "gene_bc_sscortex_filt = gene_bc_sscortex[:, cell_filter]\n",
    "cell_id_sscortex_filt = cell_id_sscortex[cell_filter]\n",
    "sample_id_sscortex_filt = sample_id_sscortex[cell_filter]\n",
    "output_path = \"E:/DISC/reproducibility/data/SSCORTEX/raw.loom\"\n",
    "with h5py.File(output_path, \"w\") as f:\n",
    "    f.create_group(\"row_graphs\")\n",
    "    f.create_group(\"col_graphs\")\n",
    "    f.create_group(\"layers\")\n",
    "    f[\"row_attrs/Gene\"] = gene_name\n",
    "    f[\"col_attrs/CellID\"] = cell_id_sscortex_filt\n",
    "    f[\"col_attrs/SampleID\"] = sample_id_sscortex_filt\n",
    "    f.create_dataset(\"matrix\", shape=gene_bc_sscortex_filt.shape,\n",
    "                             chunks=(gene_name.size, 1), dtype=np.float32, fletcher32=False,\n",
    "                             compression=\"gzip\", shuffle=False, compression_opts=2)\n",
    "    f[\"matrix\"][...] = gene_bc_sscortex_filt\n",
    "    print(output_path, gene_bc_sscortex_filt.shape)"
   ],
   "metadata": {
    "collapsed": false,
    "pycharm": {
     "name": "#%%     \n",
     "is_executing": false
    }
   }
  },
  {
   "cell_type": "markdown",
   "metadata": {
    "pycharm": {
     "name": "#%% md\n"
    }
   },
   "source": [
    "We then extract somatosensory cortex cells from osmFISH data,\n",
    "which can be downloaded directly from http://linnarssonlab.org/osmFISH/osmFISH_SScortex_mouse_all_cells.loom"
   ]
  },
  {
   "cell_type": "code",
   "execution_count": 6,
   "outputs": [
    {
     "name": "stdout",
     "text": [
      "E:/DISC/reproducibility/data/SSCORTEX/fish.loom (33, 4388)\n"
     ],
     "output_type": "stream"
    }
   ],
   "source": [
    "loom_path = \"E:/DISC/reproducibility/data/SSCORTEX/original_data/osmFISH_SScortex_mouse_all_cells.loom\"\n",
    "with h5py.File(loom_path, \"r\", libver='latest', swmr=True) as f:\n",
    "    gene_name = f[\"row_attrs/Gene\"][...]\n",
    "    cell_id = f[\"col_attrs/CellID\"][...]\n",
    "    region = f[\"col_attrs/Region\"][...].astype(np.str)\n",
    "    gene_bc_mat = f[\"matrix\"][...]\n",
    "\n",
    "used_cell = np.bitwise_and(np.bitwise_and(region != \"Hippocampus\", region != \"Ventricle\"), region != \"Excluded\")\n",
    "gene_bc_sscortex = gene_bc_mat[:, used_cell]\n",
    "cell_id_sscortex = cell_id[used_cell]\n",
    "output_path = \"E:/DISC/reproducibility/data/SSCORTEX/fish.loom\"\n",
    "with h5py.File(output_path, \"w\") as f:\n",
    "    f.create_group(\"row_graphs\")\n",
    "    f.create_group(\"col_graphs\")\n",
    "    f.create_group(\"layers\")\n",
    "    f[\"row_attrs/Gene\"] = gene_name\n",
    "    f[\"col_attrs/CellID\"] = cell_id_sscortex\n",
    "    f.create_dataset(\"matrix\", shape=gene_bc_sscortex.shape,\n",
    "                             chunks=(gene_name.size, 1), dtype=np.float32, fletcher32=False,\n",
    "                             compression=\"gzip\", shuffle=False, compression_opts=2)\n",
    "    f[\"matrix\"][...] = gene_bc_sscortex\n",
    "    print(output_path, gene_bc_sscortex.shape)"
   ],
   "metadata": {
    "collapsed": false,
    "pycharm": {
     "name": "#%%\n",
     "is_executing": false
    }
   }
  },
  {
   "cell_type": "markdown",
   "source": [
    "Reference: \n",
    "\n",
    "1. Zeisel, A. et al. Molecular architecture of the mouse nervous system. Cell 174, 999-1014.e1022 (2018)."
   ],
   "metadata": {
    "collapsed": false,
    "pycharm": {
     "name": "#%% md\n"
    }
   }
  }
 ],
 "metadata": {
  "kernelspec": {
   "display_name": "Python 3",
   "language": "python",
   "name": "python3"
  },
  "language_info": {
   "codemirror_mode": {
    "name": "ipython",
    "version": 3
   },
   "file_extension": ".py",
   "mimetype": "text/x-python",
   "name": "python",
   "nbconvert_exporter": "python",
   "pygments_lexer": "ipython3",
   "version": "3.7.2"
  },
  "pycharm": {
   "stem_cell": {
    "cell_type": "raw",
    "source": [],
    "metadata": {
     "collapsed": false
    }
   }
  }
 },
 "nbformat": 4,
 "nbformat_minor": 1
}