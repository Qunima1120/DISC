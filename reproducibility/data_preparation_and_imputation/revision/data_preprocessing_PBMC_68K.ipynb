{
 "cells": [
  {
   "cell_type": "markdown",
   "metadata": {
    "pycharm": {
     "name": "#%% md\n"
    }
   },
   "source": [
    "# Data pre-processing\n",
    "Mouse somatosensory cortex of CD-1 mice at age of p28 and p29 were\n",
    "profiled by 10X where 7,477 cells were detected ([SSCORTEX](http://loom.linnarssonlab.org/clone/Mousebrain.org.level1/L1_Cortex2.loom)).\n",
    "In addition, osmFISH experiment of 4,839 cells from somatosensory cortex,\n",
    "hippocampus and ventricle of a CD-1 mouse at age of p22 was conducted and\n",
    "33 genes were detected ([SSCORTEX_FISH](http://linnarssonlab.org/osmFISH/availability/))."
   ]
  },
  {
   "cell_type": "code",
   "execution_count": 1,
   "metadata": {
    "pycharm": {
     "is_executing": false,
     "name": "#%%\n"
    }
   },
   "outputs": [],
   "source": [
    "import numpy as np\n",
    "import h5py\n",
    "import scipy.io as sio\n",
    "import pandas as pd"
   ]
  },
  {
   "cell_type": "markdown",
   "source": [
    "The original PBMC_68K data can be found [here](https://support.10xgenomics.com/single-cell-gene-expression/datasets/1.1.0/fresh_68k_pbmc_donor_a).\n",
    "\n",
    "We filter cells following [this paper](https://www.biorxiv.org/content/10.1101/2020.01.29.925974v1)."
   ],
   "metadata": {
    "collapsed": false,
    "pycharm": {
     "name": "#%% md\n"
    }
   }
  },
  {
   "cell_type": "code",
   "execution_count": 2,
   "outputs": [],
   "source": [
    "dir_10X = \"E:/DISC/reproducibility/data/PBMC_68K/orignial_data/filtered_matrices_mex/hg19\"\n",
    "dir_output = \"E:/DISC/reproducibility/data/PBMC_68K\"\n",
    "\n",
    "original_data = sio.mmread(\"{}/matrix.mtx\".format(dir_10X)).toarray()\n",
    "gene_name = pd.read_csv(\"{}/genes.tsv\".format(dir_10X), sep=\"\\t\", header=None).values.squeeze()\n",
    "cell_id = pd.read_csv(\"{}/barcodes.tsv\".format(dir_10X), sep=\"\\t\", header=None).values.squeeze()\n",
    "print(original_data.shape)\n",
    "print(gene_name)\n",
    "print(cell_id)"
   ],
   "metadata": {
    "collapsed": false,
    "pycharm": {
     "name": "#%%\n",
     "is_executing": false
    }
   }
  },
  {
   "cell_type": "code",
   "execution_count": null,
   "outputs": [],
   "source": [],
   "metadata": {
    "collapsed": false,
    "pycharm": {
     "name": "#%%\n"
    }
   }
  }
 ],
 "metadata": {
  "kernelspec": {
   "display_name": "Python 3",
   "language": "python",
   "name": "python3"
  },
  "language_info": {
   "codemirror_mode": {
    "name": "ipython",
    "version": 3
   },
   "file_extension": ".py",
   "mimetype": "text/x-python",
   "name": "python",
   "nbconvert_exporter": "python",
   "pygments_lexer": "ipython3",
   "version": "3.7.2"
  },
  "pycharm": {
   "stem_cell": {
    "cell_type": "raw",
    "source": [],
    "metadata": {
     "collapsed": false
    }
   }
  }
 },
 "nbformat": 4,
 "nbformat_minor": 1
}