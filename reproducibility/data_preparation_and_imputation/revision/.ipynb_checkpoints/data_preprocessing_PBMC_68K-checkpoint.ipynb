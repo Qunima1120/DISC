{
 "cells": [
  {
   "cell_type": "markdown",
   "metadata": {
    "pycharm": {
     "name": "#%% md\n"
    }
   },
   "source": [
    "# Data pre-processing\n",
    "Mouse somatosensory cortex of CD-1 mice at age of p28 and p29 were\n",
    "profiled by 10X where 7,477 cells were detected ([SSCORTEX](http://loom.linnarssonlab.org/clone/Mousebrain.org.level1/L1_Cortex2.loom)).\n",
    "In addition, osmFISH experiment of 4,839 cells from somatosensory cortex,\n",
    "hippocampus and ventricle of a CD-1 mouse at age of p22 was conducted and\n",
    "33 genes were detected ([SSCORTEX_FISH](http://linnarssonlab.org/osmFISH/availability/))."
   ]
  },
  {
   "cell_type": "code",
   "execution_count": 1,
   "metadata": {
    "pycharm": {
     "is_executing": false,
     "name": "#%%\n"
    }
   },
   "outputs": [],
   "source": [
    "import numpy as np\n",
    "import h5py\n",
    "import scipy.io as sio\n",
    "import pandas as pd"
   ]
  },
  {
   "cell_type": "markdown",
   "metadata": {
    "pycharm": {
     "name": "#%% md\n"
    }
   },
   "source": [
    "The original PBMC_68K data can be found [here](https://support.10xgenomics.com/single-cell-gene-expression/datasets/1.1.0/fresh_68k_pbmc_donor_a).\n",
    "\n",
    "We filter cells following [this paper](https://www.biorxiv.org/content/10.1101/2020.01.29.925974v1)."
   ]
  },
  {
   "cell_type": "code",
   "execution_count": 2,
   "metadata": {
    "pycharm": {
     "is_executing": true,
     "name": "#%%\n"
    }
   },
   "outputs": [],
   "source": [
    "dir_10X = \"E:/DISC/reproducibility/data/PBMC_68K/orignial_data/filtered_matrices_mex/hg19\"\n",
    "dir_output = \"E:/DISC/reproducibility/data/PBMC_68K\"\n",
    "\n",
    "\n"
   ]
  },
  {
   "cell_type": "code",
   "execution_count": 4,
   "metadata": {},
   "outputs": [
    {
     "name": "stdout",
     "output_type": "stream",
     "text": [
      "(32738, 5898240)\n"
     ]
    }
   ],
   "source": [
    "original_data = sio.mmread(\"{}/matrix.mtx\".format(dir_10X))\n",
    "\n",
    "print(original_data.shape)"
   ]
  },
  {
   "cell_type": "code",
   "execution_count": 5,
   "metadata": {
    "pycharm": {
     "is_executing": true,
     "name": "#%%\n"
    }
   },
   "outputs": [
    {
     "name": "stdout",
     "output_type": "stream",
     "text": [
      "['MIR1302-10' 'FAM138A' 'OR4F5' ... 'CU459201.1' 'AC002321.2' 'AC002321.1']\n",
      "['AAACATACAAAACG-1' 'AAACATACAAAAGC-1' 'AAACATACAAACAG-1' ...\n",
      " 'TTTGCATGTTTGCT-8' 'TTTGCATGTTTGGG-8' 'TTTGCATGTTTGTC-8']\n"
     ]
    }
   ],
   "source": [
    "gene_name = pd.read_csv(\"{}/genes.tsv\".format(dir_10X), sep=\"\\t\", header=None).values[:, 1]\n",
    "cell_id = pd.read_csv(\"{}/barcodes.tsv\".format(dir_10X), sep=\"\\t\", header=None).values.squeeze()\n",
    "print(gene_name)\n",
    "print(cell_id)"
   ]
  },
  {
   "cell_type": "code",
   "execution_count": 6,
   "metadata": {},
   "outputs": [
    {
     "name": "stdout",
     "output_type": "stream",
     "text": [
      "(1, 5898240)\n",
      "[[5 0 4 ... 0 0 0]]\n"
     ]
    }
   ],
   "source": [
    "expressed_gene = (original_data > 0).sum(0)\n",
    "print(expressed_gene.shape)\n",
    "print(expressed_gene)"
   ]
  },
  {
   "cell_type": "code",
   "execution_count": 7,
   "metadata": {},
   "outputs": [
    {
     "name": "stdout",
     "output_type": "stream",
     "text": [
      "40761\n"
     ]
    }
   ],
   "source": [
    "print((expressed_gene >= 500).sum())"
   ]
  },
  {
   "cell_type": "code",
   "execution_count": null,
   "metadata": {},
   "outputs": [],
   "source": []
  }
 ],
 "metadata": {
  "kernelspec": {
   "display_name": "Python 3",
   "language": "python",
   "name": "python3"
  },
  "language_info": {
   "codemirror_mode": {
    "name": "ipython",
    "version": 3
   },
   "file_extension": ".py",
   "mimetype": "text/x-python",
   "name": "python",
   "nbconvert_exporter": "python",
   "pygments_lexer": "ipython3",
   "version": "3.7.2"
  },
  "pycharm": {
   "stem_cell": {
    "cell_type": "raw",
    "metadata": {
     "collapsed": false
    },
    "source": []
   }
  }
 },
 "nbformat": 4,
 "nbformat_minor": 1
}
