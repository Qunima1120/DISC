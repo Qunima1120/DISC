{
 "cells": [
  {
   "cell_type": "markdown",
   "source": [
    "# Getting Start\n",
    "For this tutorial, we will be imputing a dataset of Melanoma Cells\n",
    "freely available from GSE99330.\n",
    " \n",
    "## 1. Download example dataset\n",
    "\n",
    "There are 8,640 single cells that were sequenced on the Illumina\n",
    "NextSeq 500. The raw RNA-seq data can be found\n",
    "[here](https://www.ncbi.nlm.nih.gov/geo/download/?acc=GSE99330&format=file&file=GSE99330%5FdropseqHumanDge%2Etxt%2Egz).\n",
    "\n",
    "The authors also provide single molecule RNA FISH measurements of\n",
    "26 genes in thousands of melanoma cells to provide an independent\n",
    "reference dataset to assess the performance, which can be download\n",
    "[here](https://www.dropbox.com/s/ia9x0iom6dwueix/fishSubset.txt?dl=0).\n"
   ],
   "metadata": {
    "collapsed": false,
    "pycharm": {
     "name": "#%% md\n"
    }
   }
  },
  {
   "cell_type": "code",
   "execution_count": null,
   "outputs": [],
   "source": [
    "# Below is code that helps us test the notebooks\n",
    "# when not testing, we make the save_path a directory called data\n",
    "# in the scVI root directory, feel free to move anywhere"
   ],
   "metadata": {
    "collapsed": false,
    "pycharm": {
     "name": "#%%\n"
    }
   }
  },
  {
   "cell_type": "markdown",
   "source": [
    "`DISC` uses loom as its I/O format and we provide a transform script\n",
    "[here](https://www.dropbox.com/s/ia9x0iom6dwueix/fishSubset.txt?dl=0)."
   ],
   "metadata": {
    "collapsed": false,
    "pycharm": {
     "name": "#%% md\n"
    }
   }
  },
  {
   "cell_type": "code",
   "execution_count": null,
   "outputs": [],
   "source": [],
   "metadata": {
    "collapsed": false,
    "pycharm": {
     "name": "#%%\n"
    }
   }
  },
  {
   "cell_type": "markdown",
   "source": [
    "Reference: \n",
    "\n",
    "1. Huang, M. et al. Nature methods 15, 539–542 (2018)."
   ],
   "metadata": {
    "collapsed": false,
    "pycharm": {
     "name": "#%% md\n"
    }
   }
  }
 ],
 "metadata": {
  "kernelspec": {
   "display_name": "Python 3",
   "language": "python",
   "name": "python3"
  },
  "language_info": {
   "codemirror_mode": {
    "name": "ipython",
    "version": 2
   },
   "file_extension": ".py",
   "mimetype": "text/x-python",
   "name": "python",
   "nbconvert_exporter": "python",
   "pygments_lexer": "ipython2",
   "version": "2.7.6"
  },
  "pycharm": {
   "stem_cell": {
    "cell_type": "raw",
    "source": [],
    "metadata": {
     "collapsed": false
    }
   }
  }
 },
 "nbformat": 4,
 "nbformat_minor": 0
}